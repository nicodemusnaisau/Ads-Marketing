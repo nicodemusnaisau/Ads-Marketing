{
 "cells": [
  {
   "cell_type": "markdown",
   "id": "7b499765",
   "metadata": {},
   "source": [
    "# Statistics for Business"
   ]
  },
  {
   "cell_type": "markdown",
   "id": "8f8a4cc3",
   "metadata": {},
   "source": [
    "Project Sekolah Data PacmannAi"
   ]
  },
  {
   "cell_type": "markdown",
   "id": "c36dbd6a",
   "metadata": {},
   "source": [
    "#### Import Liblary"
   ]
  }
 ],
 "metadata": {
  "kernelspec": {
   "display_name": "env_d",
   "language": "python",
   "name": "env_d"
  },
  "language_info": {
   "codemirror_mode": {
    "name": "ipython",
    "version": 3
   },
   "file_extension": ".py",
   "mimetype": "text/x-python",
   "name": "python",
   "nbconvert_exporter": "python",
   "pygments_lexer": "ipython3",
   "version": "3.11.0"
  }
 },
 "nbformat": 4,
 "nbformat_minor": 5
}
