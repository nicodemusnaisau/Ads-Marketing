{
 "cells": [
  {
   "cell_type": "markdown",
   "id": "1a872608",
   "metadata": {},
   "source": [
    "# Statistics for Business"
   ]
  },
  {
   "cell_type": "markdown",
   "id": "84baba1a",
   "metadata": {},
   "source": [
    "Project Sekolah Data Pacmann Ai"
   ]
  },
  {
   "cell_type": "markdown",
   "id": "d26f21e7",
   "metadata": {},
   "source": [
    "#### Import Liblary"
   ]
  },
  {
   "cell_type": "code",
   "execution_count": 45,
   "id": "abff5558",
   "metadata": {},
   "outputs": [],
   "source": [
    "import pandas as pd\n",
    "import numpy as np\n",
    "import datetime\n",
    "import seaborn as sns\n",
    "import matplotlib.pyplot as plt\n",
    "import matplotlib\n",
    "%matplotlib inline\n",
    "from matplotlib.gridspec import GridSpec\n",
    "from plotly.offline import init_notebook_mode, iplot\n",
    "import plotly.graph_objs as go\n",
    "from plotly import tools\n",
    "import colorlover as cl \n",
    "#stats\n",
    "import scipy.stats as stats\n",
    "\n",
    "\n",
    "from pathlib import Path\n",
    "from datetime import date\n",
    "\n",
    "import warnings\n",
    "warnings.filterwarnings(\"ignore\") "
   ]
  },
  {
   "cell_type": "markdown",
   "id": "fedac8b7",
   "metadata": {},
   "source": [
    "#### **Loading data into Dataframe**"
   ]
  },
  {
   "cell_type": "code",
   "execution_count": 34,
   "id": "9c7aa5a8",
   "metadata": {},
   "outputs": [
    {
     "data": {
      "text/html": [
       "<div>\n",
       "<style scoped>\n",
       "    .dataframe tbody tr th:only-of-type {\n",
       "        vertical-align: middle;\n",
       "    }\n",
       "\n",
       "    .dataframe tbody tr th {\n",
       "        vertical-align: top;\n",
       "    }\n",
       "\n",
       "    .dataframe thead th {\n",
       "        text-align: right;\n",
       "    }\n",
       "</style>\n",
       "<table border=\"1\" class=\"dataframe\">\n",
       "  <thead>\n",
       "    <tr style=\"text-align: right;\">\n",
       "      <th></th>\n",
       "      <th>Ad Group</th>\n",
       "      <th>Month</th>\n",
       "      <th>Impressions</th>\n",
       "      <th>Clicks</th>\n",
       "      <th>CTR</th>\n",
       "      <th>Conversions</th>\n",
       "      <th>Conv Rate</th>\n",
       "      <th>Cost</th>\n",
       "      <th>CPC</th>\n",
       "      <th>Revenue</th>\n",
       "      <th>Sale Amount</th>\n",
       "      <th>P&amp;L</th>\n",
       "    </tr>\n",
       "  </thead>\n",
       "  <tbody>\n",
       "    <tr>\n",
       "      <th>0</th>\n",
       "      <td>Shop - 1:1 - Desk - [shop coupon code]</td>\n",
       "      <td>July</td>\n",
       "      <td>16038</td>\n",
       "      <td>6504</td>\n",
       "      <td>0.41</td>\n",
       "      <td>1166</td>\n",
       "      <td>0.10</td>\n",
       "      <td>6669</td>\n",
       "      <td>1.03</td>\n",
       "      <td>6402</td>\n",
       "      <td>136770.05</td>\n",
       "      <td>-267.086</td>\n",
       "    </tr>\n",
       "    <tr>\n",
       "      <th>1</th>\n",
       "      <td>Shop - 1:1 - Desk - [shop coupon]</td>\n",
       "      <td>July</td>\n",
       "      <td>36462</td>\n",
       "      <td>14367</td>\n",
       "      <td>0.39</td>\n",
       "      <td>2188</td>\n",
       "      <td>0.09</td>\n",
       "      <td>13746</td>\n",
       "      <td>0.96</td>\n",
       "      <td>13262</td>\n",
       "      <td>283215.21</td>\n",
       "      <td>-483.951</td>\n",
       "    </tr>\n",
       "    <tr>\n",
       "      <th>2</th>\n",
       "      <td>Shop - 1:1 - Desk - [shop discount code]</td>\n",
       "      <td>July</td>\n",
       "      <td>3635</td>\n",
       "      <td>1458</td>\n",
       "      <td>0.40</td>\n",
       "      <td>248</td>\n",
       "      <td>0.09</td>\n",
       "      <td>1606</td>\n",
       "      <td>1.10</td>\n",
       "      <td>1723</td>\n",
       "      <td>39165.46</td>\n",
       "      <td>117.136</td>\n",
       "    </tr>\n",
       "    <tr>\n",
       "      <th>3</th>\n",
       "      <td>Shop - 1:1 - Desk - [shop promo code]</td>\n",
       "      <td>July</td>\n",
       "      <td>26185</td>\n",
       "      <td>10418</td>\n",
       "      <td>0.40</td>\n",
       "      <td>2294</td>\n",
       "      <td>0.12</td>\n",
       "      <td>13278</td>\n",
       "      <td>1.27</td>\n",
       "      <td>13042</td>\n",
       "      <td>284823.48</td>\n",
       "      <td>-235.921</td>\n",
       "    </tr>\n",
       "    <tr>\n",
       "      <th>4</th>\n",
       "      <td>Shop - 1:1 - Desk - [shop promo]</td>\n",
       "      <td>July</td>\n",
       "      <td>808</td>\n",
       "      <td>282</td>\n",
       "      <td>0.35</td>\n",
       "      <td>61</td>\n",
       "      <td>0.15</td>\n",
       "      <td>391</td>\n",
       "      <td>1.39</td>\n",
       "      <td>337</td>\n",
       "      <td>7717.77</td>\n",
       "      <td>-53.604</td>\n",
       "    </tr>\n",
       "  </tbody>\n",
       "</table>\n",
       "</div>"
      ],
      "text/plain": [
       "                                   Ad Group Month  Impressions  Clicks   CTR  \\\n",
       "0    Shop - 1:1 - Desk - [shop coupon code]  July        16038    6504  0.41   \n",
       "1         Shop - 1:1 - Desk - [shop coupon]  July        36462   14367  0.39   \n",
       "2  Shop - 1:1 - Desk - [shop discount code]  July         3635    1458  0.40   \n",
       "3     Shop - 1:1 - Desk - [shop promo code]  July        26185   10418  0.40   \n",
       "4          Shop - 1:1 - Desk - [shop promo]  July          808     282  0.35   \n",
       "\n",
       "   Conversions  Conv Rate   Cost   CPC  Revenue  Sale Amount      P&L  \n",
       "0         1166       0.10   6669  1.03     6402    136770.05 -267.086  \n",
       "1         2188       0.09  13746  0.96    13262    283215.21 -483.951  \n",
       "2          248       0.09   1606  1.10     1723     39165.46  117.136  \n",
       "3         2294       0.12  13278  1.27    13042    284823.48 -235.921  \n",
       "4           61       0.15    391  1.39      337      7717.77  -53.604  "
      ]
     },
     "execution_count": 34,
     "metadata": {},
     "output_type": "execute_result"
    }
   ],
   "source": [
    "marketing = pd.read_csv('marketing.csv')\n",
    "marketing.head()"
   ]
  },
  {
   "cell_type": "markdown",
   "id": "ec1c0a55",
   "metadata": {},
   "source": [
    "- First, we should take a look at our dataset. \n",
    " - We can check the number of observation that experience old web page and the new one \n",
    " - Check Missing Value, and handle it if any.\n",
    " - Check duplicates, and handle it if any."
   ]
  },
  {
   "cell_type": "code",
   "execution_count": 35,
   "id": "d6ea545d",
   "metadata": {},
   "outputs": [
    {
     "name": "stdout",
     "output_type": "stream",
     "text": [
      "<class 'pandas.core.frame.DataFrame'>\n",
      "RangeIndex: 190 entries, 0 to 189\n",
      "Data columns (total 12 columns):\n",
      " #   Column       Non-Null Count  Dtype  \n",
      "---  ------       --------------  -----  \n",
      " 0   Ad Group     190 non-null    object \n",
      " 1   Month        190 non-null    object \n",
      " 2   Impressions  190 non-null    int64  \n",
      " 3   Clicks       190 non-null    int64  \n",
      " 4   CTR          190 non-null    float64\n",
      " 5   Conversions  190 non-null    int64  \n",
      " 6   Conv Rate    190 non-null    float64\n",
      " 7   Cost         190 non-null    int64  \n",
      " 8   CPC          190 non-null    float64\n",
      " 9   Revenue      190 non-null    int64  \n",
      " 10  Sale Amount  190 non-null    float64\n",
      " 11  P&L          190 non-null    float64\n",
      "dtypes: float64(5), int64(5), object(2)\n",
      "memory usage: 17.9+ KB\n"
     ]
    }
   ],
   "source": [
    "marketing.info()"
   ]
  },
  {
   "cell_type": "code",
   "execution_count": 36,
   "id": "f324db01",
   "metadata": {},
   "outputs": [
    {
     "data": {
      "text/plain": [
       "Ad Group       0\n",
       "Month          0\n",
       "Impressions    0\n",
       "Clicks         0\n",
       "CTR            0\n",
       "Conversions    0\n",
       "Conv Rate      0\n",
       "Cost           0\n",
       "CPC            0\n",
       "Revenue        0\n",
       "Sale Amount    0\n",
       "P&L            0\n",
       "dtype: int64"
      ]
     },
     "execution_count": 36,
     "metadata": {},
     "output_type": "execute_result"
    }
   ],
   "source": [
    "marketing.isnull().sum()"
   ]
  },
  {
   "cell_type": "code",
   "execution_count": 37,
   "id": "b0385ad6",
   "metadata": {},
   "outputs": [
    {
     "data": {
      "text/plain": [
       "Shop - 1:1 - Desk - [shop coupon code]    5\n",
       "Shop - Phrase - Desk - Promo Code         5\n",
       "Shop - Exact - Mob - Offer                5\n",
       "Shop - Exact - Mob - Promo Code           5\n",
       "Shop - Exact - Mob - Sale                 5\n",
       "Name: Ad Group, dtype: int64"
      ]
     },
     "execution_count": 37,
     "metadata": {},
     "output_type": "execute_result"
    }
   ],
   "source": [
    "marketing['Ad Group'].value_counts().head()"
   ]
  },
  {
   "cell_type": "markdown",
   "id": "20abe61a",
   "metadata": {},
   "source": [
    "#### **Manipulation Data**"
   ]
  },
  {
   "cell_type": "code",
   "execution_count": 38,
   "id": "d62b0554",
   "metadata": {},
   "outputs": [],
   "source": [
    "# split the \"ad_group\" column by \" - \" and create new columns\n",
    "marketing[[\"name_store\", \"keyword_match\", \"device_type\", \"landing_page\"]] = marketing[\"Ad Group\"].str.split(\" - \", expand=True)"
   ]
  },
  {
   "cell_type": "code",
   "execution_count": 39,
   "id": "f7c517fe",
   "metadata": {},
   "outputs": [
    {
     "data": {
      "text/html": [
       "<div>\n",
       "<style scoped>\n",
       "    .dataframe tbody tr th:only-of-type {\n",
       "        vertical-align: middle;\n",
       "    }\n",
       "\n",
       "    .dataframe tbody tr th {\n",
       "        vertical-align: top;\n",
       "    }\n",
       "\n",
       "    .dataframe thead th {\n",
       "        text-align: right;\n",
       "    }\n",
       "</style>\n",
       "<table border=\"1\" class=\"dataframe\">\n",
       "  <thead>\n",
       "    <tr style=\"text-align: right;\">\n",
       "      <th></th>\n",
       "      <th>Ad Group</th>\n",
       "      <th>Month</th>\n",
       "      <th>Impressions</th>\n",
       "      <th>Clicks</th>\n",
       "      <th>CTR</th>\n",
       "      <th>Conversions</th>\n",
       "      <th>Conv Rate</th>\n",
       "      <th>Cost</th>\n",
       "      <th>CPC</th>\n",
       "      <th>Revenue</th>\n",
       "      <th>Sale Amount</th>\n",
       "      <th>P&amp;L</th>\n",
       "      <th>name_store</th>\n",
       "      <th>keyword_match</th>\n",
       "      <th>device_type</th>\n",
       "      <th>landing_page</th>\n",
       "    </tr>\n",
       "  </thead>\n",
       "  <tbody>\n",
       "    <tr>\n",
       "      <th>0</th>\n",
       "      <td>Shop - 1:1 - Desk - [shop coupon code]</td>\n",
       "      <td>July</td>\n",
       "      <td>16038</td>\n",
       "      <td>6504</td>\n",
       "      <td>0.41</td>\n",
       "      <td>1166</td>\n",
       "      <td>0.10</td>\n",
       "      <td>6669</td>\n",
       "      <td>1.03</td>\n",
       "      <td>6402</td>\n",
       "      <td>136770.05</td>\n",
       "      <td>-267.086</td>\n",
       "      <td>Shop</td>\n",
       "      <td>1:1</td>\n",
       "      <td>Desk</td>\n",
       "      <td>[shop coupon code]</td>\n",
       "    </tr>\n",
       "    <tr>\n",
       "      <th>1</th>\n",
       "      <td>Shop - 1:1 - Desk - [shop coupon]</td>\n",
       "      <td>July</td>\n",
       "      <td>36462</td>\n",
       "      <td>14367</td>\n",
       "      <td>0.39</td>\n",
       "      <td>2188</td>\n",
       "      <td>0.09</td>\n",
       "      <td>13746</td>\n",
       "      <td>0.96</td>\n",
       "      <td>13262</td>\n",
       "      <td>283215.21</td>\n",
       "      <td>-483.951</td>\n",
       "      <td>Shop</td>\n",
       "      <td>1:1</td>\n",
       "      <td>Desk</td>\n",
       "      <td>[shop coupon]</td>\n",
       "    </tr>\n",
       "    <tr>\n",
       "      <th>2</th>\n",
       "      <td>Shop - 1:1 - Desk - [shop discount code]</td>\n",
       "      <td>July</td>\n",
       "      <td>3635</td>\n",
       "      <td>1458</td>\n",
       "      <td>0.40</td>\n",
       "      <td>248</td>\n",
       "      <td>0.09</td>\n",
       "      <td>1606</td>\n",
       "      <td>1.10</td>\n",
       "      <td>1723</td>\n",
       "      <td>39165.46</td>\n",
       "      <td>117.136</td>\n",
       "      <td>Shop</td>\n",
       "      <td>1:1</td>\n",
       "      <td>Desk</td>\n",
       "      <td>[shop discount code]</td>\n",
       "    </tr>\n",
       "    <tr>\n",
       "      <th>3</th>\n",
       "      <td>Shop - 1:1 - Desk - [shop promo code]</td>\n",
       "      <td>July</td>\n",
       "      <td>26185</td>\n",
       "      <td>10418</td>\n",
       "      <td>0.40</td>\n",
       "      <td>2294</td>\n",
       "      <td>0.12</td>\n",
       "      <td>13278</td>\n",
       "      <td>1.27</td>\n",
       "      <td>13042</td>\n",
       "      <td>284823.48</td>\n",
       "      <td>-235.921</td>\n",
       "      <td>Shop</td>\n",
       "      <td>1:1</td>\n",
       "      <td>Desk</td>\n",
       "      <td>[shop promo code]</td>\n",
       "    </tr>\n",
       "    <tr>\n",
       "      <th>4</th>\n",
       "      <td>Shop - 1:1 - Desk - [shop promo]</td>\n",
       "      <td>July</td>\n",
       "      <td>808</td>\n",
       "      <td>282</td>\n",
       "      <td>0.35</td>\n",
       "      <td>61</td>\n",
       "      <td>0.15</td>\n",
       "      <td>391</td>\n",
       "      <td>1.39</td>\n",
       "      <td>337</td>\n",
       "      <td>7717.77</td>\n",
       "      <td>-53.604</td>\n",
       "      <td>Shop</td>\n",
       "      <td>1:1</td>\n",
       "      <td>Desk</td>\n",
       "      <td>[shop promo]</td>\n",
       "    </tr>\n",
       "    <tr>\n",
       "      <th>...</th>\n",
       "      <td>...</td>\n",
       "      <td>...</td>\n",
       "      <td>...</td>\n",
       "      <td>...</td>\n",
       "      <td>...</td>\n",
       "      <td>...</td>\n",
       "      <td>...</td>\n",
       "      <td>...</td>\n",
       "      <td>...</td>\n",
       "      <td>...</td>\n",
       "      <td>...</td>\n",
       "      <td>...</td>\n",
       "      <td>...</td>\n",
       "      <td>...</td>\n",
       "      <td>...</td>\n",
       "      <td>...</td>\n",
       "    </tr>\n",
       "    <tr>\n",
       "      <th>185</th>\n",
       "      <td>Shop - Exact - Desk - Black Friday/Cyber Monday</td>\n",
       "      <td>November</td>\n",
       "      <td>257</td>\n",
       "      <td>24</td>\n",
       "      <td>0.09</td>\n",
       "      <td>7</td>\n",
       "      <td>0.28</td>\n",
       "      <td>3</td>\n",
       "      <td>0.14</td>\n",
       "      <td>45</td>\n",
       "      <td>898.80</td>\n",
       "      <td>41.946</td>\n",
       "      <td>Shop</td>\n",
       "      <td>Exact</td>\n",
       "      <td>Desk</td>\n",
       "      <td>Black Friday/Cyber Monday</td>\n",
       "    </tr>\n",
       "    <tr>\n",
       "      <th>186</th>\n",
       "      <td>Shop - 1:1 - Desk - [shop discount code]</td>\n",
       "      <td>November</td>\n",
       "      <td>7254</td>\n",
       "      <td>2725</td>\n",
       "      <td>0.38</td>\n",
       "      <td>512</td>\n",
       "      <td>0.11</td>\n",
       "      <td>3182</td>\n",
       "      <td>1.17</td>\n",
       "      <td>3227</td>\n",
       "      <td>66672.29</td>\n",
       "      <td>45.468</td>\n",
       "      <td>Shop</td>\n",
       "      <td>1:1</td>\n",
       "      <td>Desk</td>\n",
       "      <td>[shop discount code]</td>\n",
       "    </tr>\n",
       "    <tr>\n",
       "      <th>187</th>\n",
       "      <td>Shop - Exact - Desk - Coupon Code</td>\n",
       "      <td>November</td>\n",
       "      <td>18526</td>\n",
       "      <td>5553</td>\n",
       "      <td>0.30</td>\n",
       "      <td>919</td>\n",
       "      <td>0.10</td>\n",
       "      <td>5982</td>\n",
       "      <td>1.08</td>\n",
       "      <td>6047</td>\n",
       "      <td>129556.90</td>\n",
       "      <td>64.552</td>\n",
       "      <td>Shop</td>\n",
       "      <td>Exact</td>\n",
       "      <td>Desk</td>\n",
       "      <td>Coupon Code</td>\n",
       "    </tr>\n",
       "    <tr>\n",
       "      <th>188</th>\n",
       "      <td>Shop - Exact - Mob - Black Friday/Cyber Monday</td>\n",
       "      <td>November</td>\n",
       "      <td>3662</td>\n",
       "      <td>266</td>\n",
       "      <td>0.07</td>\n",
       "      <td>24</td>\n",
       "      <td>0.09</td>\n",
       "      <td>44</td>\n",
       "      <td>0.17</td>\n",
       "      <td>160</td>\n",
       "      <td>3268.63</td>\n",
       "      <td>115.963</td>\n",
       "      <td>Shop</td>\n",
       "      <td>Exact</td>\n",
       "      <td>Mob</td>\n",
       "      <td>Black Friday/Cyber Monday</td>\n",
       "    </tr>\n",
       "    <tr>\n",
       "      <th>189</th>\n",
       "      <td>Shop - Exact - Desk - Promo Code</td>\n",
       "      <td>November</td>\n",
       "      <td>25592</td>\n",
       "      <td>7726</td>\n",
       "      <td>0.30</td>\n",
       "      <td>1731</td>\n",
       "      <td>0.14</td>\n",
       "      <td>10914</td>\n",
       "      <td>1.41</td>\n",
       "      <td>11223</td>\n",
       "      <td>236665.59</td>\n",
       "      <td>308.975</td>\n",
       "      <td>Shop</td>\n",
       "      <td>Exact</td>\n",
       "      <td>Desk</td>\n",
       "      <td>Promo Code</td>\n",
       "    </tr>\n",
       "  </tbody>\n",
       "</table>\n",
       "<p>190 rows × 16 columns</p>\n",
       "</div>"
      ],
      "text/plain": [
       "                                            Ad Group     Month  Impressions  \\\n",
       "0             Shop - 1:1 - Desk - [shop coupon code]      July        16038   \n",
       "1                  Shop - 1:1 - Desk - [shop coupon]      July        36462   \n",
       "2           Shop - 1:1 - Desk - [shop discount code]      July         3635   \n",
       "3              Shop - 1:1 - Desk - [shop promo code]      July        26185   \n",
       "4                   Shop - 1:1 - Desk - [shop promo]      July          808   \n",
       "..                                               ...       ...          ...   \n",
       "185  Shop - Exact - Desk - Black Friday/Cyber Monday  November          257   \n",
       "186         Shop - 1:1 - Desk - [shop discount code]  November         7254   \n",
       "187                Shop - Exact - Desk - Coupon Code  November        18526   \n",
       "188   Shop - Exact - Mob - Black Friday/Cyber Monday  November         3662   \n",
       "189                 Shop - Exact - Desk - Promo Code  November        25592   \n",
       "\n",
       "     Clicks   CTR  Conversions  Conv Rate   Cost   CPC  Revenue  Sale Amount  \\\n",
       "0      6504  0.41         1166       0.10   6669  1.03     6402    136770.05   \n",
       "1     14367  0.39         2188       0.09  13746  0.96    13262    283215.21   \n",
       "2      1458  0.40          248       0.09   1606  1.10     1723     39165.46   \n",
       "3     10418  0.40         2294       0.12  13278  1.27    13042    284823.48   \n",
       "4       282  0.35           61       0.15    391  1.39      337      7717.77   \n",
       "..      ...   ...          ...        ...    ...   ...      ...          ...   \n",
       "185      24  0.09            7       0.28      3  0.14       45       898.80   \n",
       "186    2725  0.38          512       0.11   3182  1.17     3227     66672.29   \n",
       "187    5553  0.30          919       0.10   5982  1.08     6047    129556.90   \n",
       "188     266  0.07           24       0.09     44  0.17      160      3268.63   \n",
       "189    7726  0.30         1731       0.14  10914  1.41    11223    236665.59   \n",
       "\n",
       "         P&L name_store keyword_match device_type               landing_page  \n",
       "0   -267.086       Shop           1:1        Desk         [shop coupon code]  \n",
       "1   -483.951       Shop           1:1        Desk              [shop coupon]  \n",
       "2    117.136       Shop           1:1        Desk       [shop discount code]  \n",
       "3   -235.921       Shop           1:1        Desk          [shop promo code]  \n",
       "4    -53.604       Shop           1:1        Desk               [shop promo]  \n",
       "..       ...        ...           ...         ...                        ...  \n",
       "185   41.946       Shop         Exact        Desk  Black Friday/Cyber Monday  \n",
       "186   45.468       Shop           1:1        Desk       [shop discount code]  \n",
       "187   64.552       Shop         Exact        Desk                Coupon Code  \n",
       "188  115.963       Shop         Exact         Mob  Black Friday/Cyber Monday  \n",
       "189  308.975       Shop         Exact        Desk                 Promo Code  \n",
       "\n",
       "[190 rows x 16 columns]"
      ]
     },
     "execution_count": 39,
     "metadata": {},
     "output_type": "execute_result"
    }
   ],
   "source": [
    "marketing"
   ]
  },
  {
   "cell_type": "code",
   "execution_count": 52,
   "id": "c6ea425b",
   "metadata": {},
   "outputs": [
    {
     "data": {
      "text/plain": [
       "array(['[shop coupon code]', '[shop coupon]', '[shop discount code]',\n",
       "       '[shop promo code]', '[shop promo]', 'Competitor', 'Coupon Code',\n",
       "       'Discount Code', 'Free Shipping', 'Offer', 'Promo Code', 'Sale',\n",
       "       'Black Friday/Cyber Monday'], dtype=object)"
      ]
     },
     "execution_count": 52,
     "metadata": {},
     "output_type": "execute_result"
    }
   ],
   "source": [
    "unique_values_landing_page = marketing['landing_page'].unique()\n",
    "unique_values_landing_page"
   ]
  },
  {
   "cell_type": "markdown",
   "id": "9eeaf66d",
   "metadata": {},
   "source": [
    "## **Statistics Test**\n",
    "___\n",
    "\n",
    "The company has been tracking the Click for the Landing Page of their shop promo code and shop coupon code for 5 months. The company now wants to conduct a statistical test to determine if there is a significant difference in the Click between the two landing pages."
   ]
  },
  {
   "cell_type": "markdown",
   "id": "b38ce669",
   "metadata": {},
   "source": [
    "- What to prove: **Cliks** or the proportion of page from landing page on the **shop promo code** page **greater** than the **shop coupon code** page\n",
    "- Let $p_1$ is the proportion of convertion from landing on the **shop promo code** page and $p_2$ is the proportion of convertion from landing on the **shop coupon code** page "
   ]
  },
  {
   "cell_type": "markdown",
   "id": "fc550a42",
   "metadata": {},
   "source": [
    "- Then we state Null hypothesis ($H_0$) as status quo, where we shouldn't do anything and have no data \n",
    " - $H_0$: the probability of all users who cliks from landing on the shop promo code page is **less than or equal** to the probability of all users who clicks from landing on the shop coupon code. \n",
    "   $$H_0:P_1 \\leq P_2$$\n",
    "- Alternative hypothesis ($H_1$) is the opposite claim from null hypothesis\n",
    " - $H_1$: the probability of all users who cliks from landing on the shop coupon code page is **greater than** the probability of all users who clicks from landing on the shop promo code page. $$H_1:P_1 > P_2$$\n",
    "- Set siginificance level (alpha)\n",
    " - Significance level = 0.05`"
   ]
  },
  {
   "cell_type": "markdown",
   "id": "25449aad",
   "metadata": {},
   "source": [
    "#### **Define Null & Alternate Hypothesis**"
   ]
  },
  {
   "cell_type": "markdown",
   "id": "93a6eb25",
   "metadata": {},
   "source": [
    "*What the default condition in the company?*\n",
    "- [x] There is significant difference in the Click between the landing page for `shop promo code` and `shop coupon code`.\n",
    "- [ ] There is no a significant difference in the Click between the two landing pages for `shop promo code` and `shop coupon code`\n",
    "\n",
    "<font color=\"blue\">Explaination</font><br>\n",
    "This means that the company assumes that both landing pages have the same Clicks and that any observed differences are due to chance."
   ]
  },
  {
   "cell_type": "markdown",
   "id": "8e6f9496",
   "metadata": {},
   "source": [
    "#### 1. Define Hyphoteses  "
   ]
  },
  {
   "cell_type": "markdown",
   "id": "0eea11f7",
   "metadata": {},
   "source": [
    "$H_0: \\mu_{\\text{shop promo code}} \\geq \\mu_{\\text{shop coupon code}}$\n",
    "\n",
    "$H_1: \\mu_{\\text{shop promo code}} < \\mu_{\\text{shop coupon code}}$"
   ]
  },
  {
   "cell_type": "markdown",
   "id": "b8809421",
   "metadata": {},
   "source": [
    "#### 2. Compute z-statistics\n",
    "\n",
    "$$ z = \\frac{\\hat{p}-p_{o}}{\\sqrt{\\frac{p_{o}(1-p_{o})}{n}}} $$"
   ]
  },
  {
   "cell_type": "markdown",
   "id": "e61684dd",
   "metadata": {},
   "source": [
    "- Use the proportion_ztest() function to calculate z-statistics and p-value for one-sample proportions test\n",
    "\n",
    "```python\n",
    "zstats, pval = proportions_ztest(count = ...,\n",
    "                                 nobs = ...,\n",
    "                                 value = ...,\n",
    "                                 alternative = ...)\n",
    "```\n",
    "in which\n",
    "- `count` : number of successes\n",
    "- `nobs` : number of observations\n",
    "- `value` : the value of the null hypothesis equal to the proportion in the case of a one sample test. \n",
    "- `alternative` : It depends on the alternative hypothesis for the test\n",
    "    - if $H_1$ is not equal to certain value, we use `two-sided`\n",
    "    - if $H_1$ is larger than certain value, we use `larger`\n",
    "    - if $H_1$ is smaller than certain value, we use `smaller` "
   ]
  },
  {
   "cell_type": "code",
   "execution_count": 97,
   "id": "fba64f66",
   "metadata": {},
   "outputs": [],
   "source": [
    "from statsmodels.stats.proportion import proportions_ztest"
   ]
  },
  {
   "cell_type": "code",
   "execution_count": 101,
   "id": "aa554534",
   "metadata": {},
   "outputs": [
    {
     "ename": "NameError",
     "evalue": "name 'converted_new' is not defined",
     "output_type": "error",
     "traceback": [
      "\u001b[1;31m---------------------------------------------------------------------------\u001b[0m",
      "\u001b[1;31mNameError\u001b[0m                                 Traceback (most recent call last)",
      "Cell \u001b[1;32mIn[101], line 2\u001b[0m\n\u001b[0;32m      1\u001b[0m \u001b[38;5;66;03m# Perform two proportion z-test\u001b[39;00m\n\u001b[1;32m----> 2\u001b[0m test_stat, p_value \u001b[38;5;241m=\u001b[39m proportions_ztest(count \u001b[38;5;241m=\u001b[39m [\u001b[43mconverted_new\u001b[49m, converted_old], \n\u001b[0;32m      3\u001b[0m                                                 nobs \u001b[38;5;241m=\u001b[39m [n_new, n_old], \n\u001b[0;32m      4\u001b[0m                                                 alternative \u001b[38;5;241m=\u001b[39m \u001b[38;5;124m'\u001b[39m\u001b[38;5;124mlarger\u001b[39m\u001b[38;5;124m'\u001b[39m)\n\u001b[0;32m      6\u001b[0m \u001b[38;5;28mprint\u001b[39m(\u001b[38;5;124m\"\u001b[39m\u001b[38;5;124mThe computed Z test statistic is: \u001b[39m\u001b[38;5;124m\"\u001b[39m,np\u001b[38;5;241m.\u001b[39mround(test_stat, \u001b[38;5;241m4\u001b[39m))\n\u001b[0;32m      7\u001b[0m \u001b[38;5;28mprint\u001b[39m(\u001b[38;5;124m\"\u001b[39m\u001b[38;5;124mThe p-value is: \u001b[39m\u001b[38;5;124m\"\u001b[39m, np\u001b[38;5;241m.\u001b[39mround(p_value,\u001b[38;5;241m4\u001b[39m))\n",
      "\u001b[1;31mNameError\u001b[0m: name 'converted_new' is not defined"
     ]
    }
   ],
   "source": [
    "# Perform two proportion z-test\n",
    "test_stat, p_value = proportions_ztest(count = [promo, converted_old], \n",
    "                                                nobs = [n_new, n_old], \n",
    "                                                alternative = 'larger')\n",
    "\n",
    "print(\"The computed Z test statistic is: \",np.round(test_stat, 4))\n",
    "print(\"The p-value is: \", np.round(p_value,4))"
   ]
  },
  {
   "cell_type": "code",
   "execution_count": 102,
   "id": "30d417a7",
   "metadata": {},
   "outputs": [
    {
     "data": {
      "text/plain": [
       "3      10418\n",
       "8      27121\n",
       "38     17655\n",
       "39      7673\n",
       "77     14427\n",
       "78      6199\n",
       "115    15595\n",
       "116     6484\n",
       "153    23538\n",
       "159    57405\n",
       "Name: Clicks, dtype: int64"
      ]
     },
     "execution_count": 102,
     "metadata": {},
     "output_type": "execute_result"
    }
   ],
   "source": [
    "promo"
   ]
  },
  {
   "cell_type": "code",
   "execution_count": 94,
   "id": "8b499cb8",
   "metadata": {},
   "outputs": [
    {
     "name": "stdout",
     "output_type": "stream",
     "text": [
      "z stats : -2.4618\n",
      "p-value : 0.0069\n"
     ]
    }
   ],
   "source": [
    "# import proportion_ztest function\n",
    "from statsmodels.stats.proportion import proportions_ztest\n",
    "\n",
    "# perform one-sample proportion z-test\n",
    "z_stat, p_value = proportions_ztest(count = 12, nobs = 100, value=0.2, alternative='smaller')\n",
    "    \n",
    "print(f\"z stats : {z_stat:.4f}\")\n",
    "print(f\"p-value : {p_value:.4f}\")"
   ]
  },
  {
   "cell_type": "code",
   "execution_count": 89,
   "id": "8a90f55b",
   "metadata": {},
   "outputs": [
    {
     "name": "stdout",
     "output_type": "stream",
     "text": [
      "z stats: 0.8290\n",
      "p-value: 0.2035\n"
     ]
    }
   ],
   "source": [
    "promo = marketing[marketing['landing_page'] == '[shop promo code]']['Clicks']\n",
    "coupon = marketing[marketing['landing_page'] == '[shop coupon code]']['Clicks']\n",
    "\n",
    "\n",
    "promo_mean = promo.mean()\n",
    "coupon_mean = coupon.mean()\n",
    "promo_std = promo.std(ddof=1) # use ddof=1 for unbiased standard deviation\n",
    "coupon_std = coupon.std(ddof=1)\n",
    "\n",
    "# calculate the standard error and the z statistic\n",
    "n_promo = len(promo)\n",
    "n_coupon = len(coupon)\n",
    "se = np.sqrt((promo_std**2/n_promo) + (coupon_std**2/n_coupon))\n",
    "z_stat = (promo_mean - coupon_mean) / se\n",
    "\n",
    "# calculate the p-value using a one-tailed test\n",
    "p_value = 1 - stats.norm.cdf(z_stat)\n",
    "\n",
    "# print the results\n",
    "print(f\"z stats: {z_stat:.4f}\")\n",
    "print(f\"p-value: {p_value:.4f}\")"
   ]
  },
  {
   "cell_type": "markdown",
   "id": "bb431d8b",
   "metadata": {},
   "source": [
    "since the p-value (0.2035) is greater than the significance level, we fail to reject the null hypothesis. Therefore, we cannot conclude that there is a significant difference in the Click between the landing page for shop promo code and shop coupon code."
   ]
  },
  {
   "cell_type": "code",
   "execution_count": 90,
   "id": "7bbc04fc",
   "metadata": {},
   "outputs": [
    {
     "name": "stdout",
     "output_type": "stream",
     "text": [
      "1.6448536269514722\n"
     ]
    }
   ],
   "source": [
    "# critical value in our case is z-value where the left-tailed area under a standard normal distribution is 0.05 (alpha)\n",
    "import scipy.stats as stats\n",
    "z_crit = stats.norm.ppf(1-0.05)\n",
    "print(z_crit)"
   ]
  },
  {
   "cell_type": "code",
   "execution_count": 91,
   "id": "408abf9b",
   "metadata": {},
   "outputs": [
    {
     "name": "stdout",
     "output_type": "stream",
     "text": [
      "Failed to reject the Null hypothesis\n"
     ]
    }
   ],
   "source": [
    "# Decision rule based on p-value\n",
    "\n",
    "if p_value<0.05:\n",
    "    print(\"Reject the null hypothesis\")\n",
    "else:\n",
    "    print(\"Failed to reject the Null hypothesis\")"
   ]
  },
  {
   "cell_type": "code",
   "execution_count": 92,
   "id": "8cc4446e",
   "metadata": {},
   "outputs": [
    {
     "name": "stdout",
     "output_type": "stream",
     "text": [
      "Reject the null hypothesis\n"
     ]
    }
   ],
   "source": [
    "# Decision rule based on critical value\n",
    "\n",
    "if z_stat<z_crit:\n",
    "    print(\"Reject the null hypothesis\")\n",
    "else:\n",
    "    print(\"Failed to reject the Null hypothesis\")"
   ]
  },
  {
   "cell_type": "markdown",
   "id": "150e523e",
   "metadata": {},
   "source": [
    "This means that there is not enough evidence to conclude that there is a significant difference in the number of clicks between the two landing pages. The decision rule based on the critical value also supports this conclusion, as the calculated z-statistic is less than the critical value of 1.6448.as_integer_ratio"
   ]
  },
  {
   "cell_type": "code",
   "execution_count": 86,
   "id": "9b9138ac",
   "metadata": {},
   "outputs": [
    {
     "data": {
      "image/png": "[encoded data removed]",
      "text/plain": [
       "<Figure size 800x550 with 1 Axes>"
      ]
     },
     "metadata": {},
     "output_type": "display_data"
    }
   ],
   "source": [
    "# Visualization\n",
    "import numpy as np\n",
    "import matplotlib.pyplot as plt\n",
    "plt.style.use('seaborn')\n",
    "\n",
    "# plot sample distribution \n",
    "x = np.arange(-4, 4, 0.001)\n",
    "plt.plot(x, stats.norm.pdf(x, 0, 1), \n",
    "         color='blue')\n",
    "\n",
    "# plot alpha region\n",
    "x_alpha = np.arange(-4,z_crit, 0.01)\n",
    "y_alpha = stats.norm.pdf(x_alpha)\n",
    "plt.fill_between(x = x_alpha, \n",
    "                 y1 = y_alpha,\n",
    "                 facecolor = 'red',\n",
    "                 alpha = 0.35, \n",
    "                 label = 'alpha')\n",
    "\n",
    "# plot pvalue\n",
    "x_pvalue = np.arange(-4,z_stat, 0.01)\n",
    "y_pvalue = stats.norm.pdf(x_pvalue)\n",
    "plt.fill_between(x = x_pvalue, \n",
    "                 y1 = y_pvalue,\n",
    "                 facecolor = 'green',\n",
    "                 alpha = 0.35, \n",
    "                 label = 'pvalue')\n",
    "\n",
    "# plot z-crit and z-stats\n",
    "plt.axvline(np.round(z_stat, 4), \n",
    "            color =\"green\", \n",
    "            linestyle = \"--\", \n",
    "            label =\"z-stat\")\n",
    "plt.axvline(z_crit, \n",
    "            color =\"red\", \n",
    "            linestyle = \"--\", \n",
    "            label =\"z-crit\")\n",
    "\n",
    "plt.legend()\n",
    "plt.xlabel(\"z\")\n",
    "plt.ylabel(\"density\")\n",
    "\n",
    "plt.title(f'Standard Normal Distribution Plot \\n\\n z-statistic = {np.round(z_stat, 4)}, z_crit = {np.round(z_crit, 4)}, p-val = {np.round(p_value, 4)}, alpha = 0.05');"
   ]
  }
 ],
 "metadata": {
  "kernelspec": {
   "display_name": "env_d",
   "language": "python",
   "name": "env_d"
  },
  "language_info": {
   "codemirror_mode": {
    "name": "ipython",
    "version": 3
   },
   "file_extension": ".py",
   "mimetype": "text/x-python",
   "name": "python",
   "nbconvert_exporter": "python",
   "pygments_lexer": "ipython3",
   "version": "3.11.0"
  }
 },
 "nbformat": 4,
 "nbformat_minor": 5
}
