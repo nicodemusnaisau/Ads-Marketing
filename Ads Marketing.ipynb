{
 "cells": [
  {
   "cell_type": "markdown",
   "id": "1a872608",
   "metadata": {},
   "source": [
    "# Statistics for Business Ads"
   ]
  },
  {
   "cell_type": "markdown",
   "id": "f2738731",
   "metadata": {},
   "source": [
    "####  Author : Nicodemus Naisau (demsroadmap@gmail.com)"
   ]
  },
  {
   "cell_type": "markdown",
   "id": "84baba1a",
   "metadata": {},
   "source": [
    "Project Sekolah Data Pacmann AI"
   ]
  },
  {
   "cell_type": "markdown",
   "id": "d26f21e7",
   "metadata": {},
   "source": [
    "#### Import Liblary"
   ]
  },
  {
   "cell_type": "code",
   "execution_count": 1,
   "id": "abff5558",
   "metadata": {},
   "outputs": [],
   "source": [
    "import pandas as pd\n",
    "import numpy as np\n",
    "import datetime\n",
    "import seaborn as sns\n",
    "import matplotlib.pyplot as plt\n",
    "import matplotlib\n",
    "%matplotlib inline\n",
    "from matplotlib.gridspec import GridSpec\n",
    "from plotly.offline import init_notebook_mode, iplot\n",
    "import plotly.graph_objs as go\n",
    "from plotly import tools\n",
    "import colorlover as cl \n",
    "#stats\n",
    "import scipy.stats as stats\n",
    "\n",
    "\n",
    "# modelling\n",
    "import statsmodels.formula.api as smf\n",
    "\n",
    "from pathlib import Path\n",
    "from datetime import date\n",
    "\n",
    "import warnings\n",
    "warnings.filterwarnings(\"ignore\") "
   ]
  },
  {
   "cell_type": "markdown",
   "id": "fedac8b7",
   "metadata": {},
   "source": [
    "#### **Loading data into Dataframe**"
   ]
  },
  {
   "cell_type": "code",
   "execution_count": 2,
   "id": "9c7aa5a8",
   "metadata": {},
   "outputs": [
    {
     "data": {
      "text/html": [
       "<div>\n",
       "<style scoped>\n",
       "    .dataframe tbody tr th:only-of-type {\n",
       "        vertical-align: middle;\n",
       "    }\n",
       "\n",
       "    .dataframe tbody tr th {\n",
       "        vertical-align: top;\n",
       "    }\n",
       "\n",
       "    .dataframe thead th {\n",
       "        text-align: right;\n",
       "    }\n",
       "</style>\n",
       "<table border=\"1\" class=\"dataframe\">\n",
       "  <thead>\n",
       "    <tr style=\"text-align: right;\">\n",
       "      <th></th>\n",
       "      <th>Ad Group</th>\n",
       "      <th>Month</th>\n",
       "      <th>Impressions</th>\n",
       "      <th>Clicks</th>\n",
       "      <th>CTR</th>\n",
       "      <th>Conversions</th>\n",
       "      <th>Conv Rate</th>\n",
       "      <th>Cost</th>\n",
       "      <th>CPC</th>\n",
       "      <th>Revenue</th>\n",
       "      <th>Sale Amount</th>\n",
       "      <th>P&amp;L</th>\n",
       "    </tr>\n",
       "  </thead>\n",
       "  <tbody>\n",
       "    <tr>\n",
       "      <th>0</th>\n",
       "      <td>Shop - 1:1 - Desk - [shop coupon code]</td>\n",
       "      <td>July</td>\n",
       "      <td>16038</td>\n",
       "      <td>6504</td>\n",
       "      <td>0.41</td>\n",
       "      <td>1166</td>\n",
       "      <td>0.10</td>\n",
       "      <td>6669</td>\n",
       "      <td>1.03</td>\n",
       "      <td>6402</td>\n",
       "      <td>136770.05</td>\n",
       "      <td>-267.086</td>\n",
       "    </tr>\n",
       "    <tr>\n",
       "      <th>1</th>\n",
       "      <td>Shop - 1:1 - Desk - [shop coupon]</td>\n",
       "      <td>July</td>\n",
       "      <td>36462</td>\n",
       "      <td>14367</td>\n",
       "      <td>0.39</td>\n",
       "      <td>2188</td>\n",
       "      <td>0.09</td>\n",
       "      <td>13746</td>\n",
       "      <td>0.96</td>\n",
       "      <td>13262</td>\n",
       "      <td>283215.21</td>\n",
       "      <td>-483.951</td>\n",
       "    </tr>\n",
       "    <tr>\n",
       "      <th>2</th>\n",
       "      <td>Shop - 1:1 - Desk - [shop discount code]</td>\n",
       "      <td>July</td>\n",
       "      <td>3635</td>\n",
       "      <td>1458</td>\n",
       "      <td>0.40</td>\n",
       "      <td>248</td>\n",
       "      <td>0.09</td>\n",
       "      <td>1606</td>\n",
       "      <td>1.10</td>\n",
       "      <td>1723</td>\n",
       "      <td>39165.46</td>\n",
       "      <td>117.136</td>\n",
       "    </tr>\n",
       "    <tr>\n",
       "      <th>3</th>\n",
       "      <td>Shop - 1:1 - Desk - [shop promo code]</td>\n",
       "      <td>July</td>\n",
       "      <td>26185</td>\n",
       "      <td>10418</td>\n",
       "      <td>0.40</td>\n",
       "      <td>2294</td>\n",
       "      <td>0.12</td>\n",
       "      <td>13278</td>\n",
       "      <td>1.27</td>\n",
       "      <td>13042</td>\n",
       "      <td>284823.48</td>\n",
       "      <td>-235.921</td>\n",
       "    </tr>\n",
       "    <tr>\n",
       "      <th>4</th>\n",
       "      <td>Shop - 1:1 - Desk - [shop promo]</td>\n",
       "      <td>July</td>\n",
       "      <td>808</td>\n",
       "      <td>282</td>\n",
       "      <td>0.35</td>\n",
       "      <td>61</td>\n",
       "      <td>0.15</td>\n",
       "      <td>391</td>\n",
       "      <td>1.39</td>\n",
       "      <td>337</td>\n",
       "      <td>7717.77</td>\n",
       "      <td>-53.604</td>\n",
       "    </tr>\n",
       "  </tbody>\n",
       "</table>\n",
       "</div>"
      ],
      "text/plain": [
       "                                   Ad Group Month  Impressions  Clicks   CTR  \\\n",
       "0    Shop - 1:1 - Desk - [shop coupon code]  July        16038    6504  0.41   \n",
       "1         Shop - 1:1 - Desk - [shop coupon]  July        36462   14367  0.39   \n",
       "2  Shop - 1:1 - Desk - [shop discount code]  July         3635    1458  0.40   \n",
       "3     Shop - 1:1 - Desk - [shop promo code]  July        26185   10418  0.40   \n",
       "4          Shop - 1:1 - Desk - [shop promo]  July          808     282  0.35   \n",
       "\n",
       "   Conversions  Conv Rate   Cost   CPC  Revenue  Sale Amount      P&L  \n",
       "0         1166       0.10   6669  1.03     6402    136770.05 -267.086  \n",
       "1         2188       0.09  13746  0.96    13262    283215.21 -483.951  \n",
       "2          248       0.09   1606  1.10     1723     39165.46  117.136  \n",
       "3         2294       0.12  13278  1.27    13042    284823.48 -235.921  \n",
       "4           61       0.15    391  1.39      337      7717.77  -53.604  "
      ]
     },
     "execution_count": 2,
     "metadata": {},
     "output_type": "execute_result"
    }
   ],
   "source": [
    "marketing = pd.read_csv('marketing.csv')\n",
    "marketing.head()"
   ]
  },
  {
   "cell_type": "code",
   "execution_count": 3,
   "id": "85b29038",
   "metadata": {},
   "outputs": [],
   "source": [
    "marketing = marketing.rename(columns={\n",
    "    'Ad Group': 'Ad_Group',\n",
    "    'Conv Rate': 'Conversion_Rate',\n",
    "    'Sale Amount': 'Sale_Amount',\n",
    "})"
   ]
  },
  {
   "cell_type": "markdown",
   "id": "ec1c0a55",
   "metadata": {},
   "source": [
    "- First, we should take a look at our dataset. \n",
    " - We can check the number of observation that experience old web page and the new one \n",
    " - Check Missing Value, and handle it if any.\n",
    " - Check duplicates, and handle it if any."
   ]
  },
  {
   "cell_type": "code",
   "execution_count": 4,
   "id": "d6ea545d",
   "metadata": {},
   "outputs": [
    {
     "name": "stdout",
     "output_type": "stream",
     "text": [
      "<class 'pandas.core.frame.DataFrame'>\n",
      "RangeIndex: 190 entries, 0 to 189\n",
      "Data columns (total 12 columns):\n",
      " #   Column           Non-Null Count  Dtype  \n",
      "---  ------           --------------  -----  \n",
      " 0   Ad_Group         190 non-null    object \n",
      " 1   Month            190 non-null    object \n",
      " 2   Impressions      190 non-null    int64  \n",
      " 3   Clicks           190 non-null    int64  \n",
      " 4   CTR              190 non-null    float64\n",
      " 5   Conversions      190 non-null    int64  \n",
      " 6   Conversion_Rate  190 non-null    float64\n",
      " 7   Cost             190 non-null    int64  \n",
      " 8   CPC              190 non-null    float64\n",
      " 9   Revenue          190 non-null    int64  \n",
      " 10  Sale_Amount      190 non-null    float64\n",
      " 11  P&L              190 non-null    float64\n",
      "dtypes: float64(5), int64(5), object(2)\n",
      "memory usage: 17.9+ KB\n"
     ]
    }
   ],
   "source": [
    "marketing.info()"
   ]
  },
  {
   "cell_type": "code",
   "execution_count": 5,
   "id": "f324db01",
   "metadata": {},
   "outputs": [
    {
     "data": {
      "text/plain": [
       "Ad_Group           0\n",
       "Month              0\n",
       "Impressions        0\n",
       "Clicks             0\n",
       "CTR                0\n",
       "Conversions        0\n",
       "Conversion_Rate    0\n",
       "Cost               0\n",
       "CPC                0\n",
       "Revenue            0\n",
       "Sale_Amount        0\n",
       "P&L                0\n",
       "dtype: int64"
      ]
     },
     "execution_count": 5,
     "metadata": {},
     "output_type": "execute_result"
    }
   ],
   "source": [
    "marketing.isnull().sum()"
   ]
  },
  {
   "cell_type": "code",
   "execution_count": 6,
   "id": "b0385ad6",
   "metadata": {},
   "outputs": [
    {
     "data": {
      "text/plain": [
       "Shop - 1:1 - Desk - [shop coupon code]    5\n",
       "Shop - Phrase - Desk - Promo Code         5\n",
       "Shop - Exact - Mob - Offer                5\n",
       "Shop - Exact - Mob - Promo Code           5\n",
       "Shop - Exact - Mob - Sale                 5\n",
       "Name: Ad_Group, dtype: int64"
      ]
     },
     "execution_count": 6,
     "metadata": {},
     "output_type": "execute_result"
    }
   ],
   "source": [
    "marketing['Ad_Group'].value_counts().head()"
   ]
  },
  {
   "cell_type": "markdown",
   "id": "20abe61a",
   "metadata": {},
   "source": [
    "#### **Manipulation Data**"
   ]
  },
  {
   "cell_type": "code",
   "execution_count": 7,
   "id": "d62b0554",
   "metadata": {},
   "outputs": [],
   "source": [
    "# split the \"ad_group\" column by \" - \" and create new columns\n",
    "marketing[[\"name_store\", \"keyword_match\", \"device_type\", \"landing_page\"]] = marketing[\"Ad_Group\"].str.split(\" - \", expand=True)"
   ]
  },
  {
   "cell_type": "code",
   "execution_count": 8,
   "id": "f7c517fe",
   "metadata": {},
   "outputs": [
    {
     "data": {
      "text/html": [
       "<div>\n",
       "<style scoped>\n",
       "    .dataframe tbody tr th:only-of-type {\n",
       "        vertical-align: middle;\n",
       "    }\n",
       "\n",
       "    .dataframe tbody tr th {\n",
       "        vertical-align: top;\n",
       "    }\n",
       "\n",
       "    .dataframe thead th {\n",
       "        text-align: right;\n",
       "    }\n",
       "</style>\n",
       "<table border=\"1\" class=\"dataframe\">\n",
       "  <thead>\n",
       "    <tr style=\"text-align: right;\">\n",
       "      <th></th>\n",
       "      <th>Ad_Group</th>\n",
       "      <th>Month</th>\n",
       "      <th>Impressions</th>\n",
       "      <th>Clicks</th>\n",
       "      <th>CTR</th>\n",
       "      <th>Conversions</th>\n",
       "      <th>Conversion_Rate</th>\n",
       "      <th>Cost</th>\n",
       "      <th>CPC</th>\n",
       "      <th>Revenue</th>\n",
       "      <th>Sale_Amount</th>\n",
       "      <th>P&amp;L</th>\n",
       "      <th>name_store</th>\n",
       "      <th>keyword_match</th>\n",
       "      <th>device_type</th>\n",
       "      <th>landing_page</th>\n",
       "    </tr>\n",
       "  </thead>\n",
       "  <tbody>\n",
       "    <tr>\n",
       "      <th>0</th>\n",
       "      <td>Shop - 1:1 - Desk - [shop coupon code]</td>\n",
       "      <td>July</td>\n",
       "      <td>16038</td>\n",
       "      <td>6504</td>\n",
       "      <td>0.41</td>\n",
       "      <td>1166</td>\n",
       "      <td>0.10</td>\n",
       "      <td>6669</td>\n",
       "      <td>1.03</td>\n",
       "      <td>6402</td>\n",
       "      <td>136770.05</td>\n",
       "      <td>-267.086</td>\n",
       "      <td>Shop</td>\n",
       "      <td>1:1</td>\n",
       "      <td>Desk</td>\n",
       "      <td>[shop coupon code]</td>\n",
       "    </tr>\n",
       "    <tr>\n",
       "      <th>1</th>\n",
       "      <td>Shop - 1:1 - Desk - [shop coupon]</td>\n",
       "      <td>July</td>\n",
       "      <td>36462</td>\n",
       "      <td>14367</td>\n",
       "      <td>0.39</td>\n",
       "      <td>2188</td>\n",
       "      <td>0.09</td>\n",
       "      <td>13746</td>\n",
       "      <td>0.96</td>\n",
       "      <td>13262</td>\n",
       "      <td>283215.21</td>\n",
       "      <td>-483.951</td>\n",
       "      <td>Shop</td>\n",
       "      <td>1:1</td>\n",
       "      <td>Desk</td>\n",
       "      <td>[shop coupon]</td>\n",
       "    </tr>\n",
       "    <tr>\n",
       "      <th>2</th>\n",
       "      <td>Shop - 1:1 - Desk - [shop discount code]</td>\n",
       "      <td>July</td>\n",
       "      <td>3635</td>\n",
       "      <td>1458</td>\n",
       "      <td>0.40</td>\n",
       "      <td>248</td>\n",
       "      <td>0.09</td>\n",
       "      <td>1606</td>\n",
       "      <td>1.10</td>\n",
       "      <td>1723</td>\n",
       "      <td>39165.46</td>\n",
       "      <td>117.136</td>\n",
       "      <td>Shop</td>\n",
       "      <td>1:1</td>\n",
       "      <td>Desk</td>\n",
       "      <td>[shop discount code]</td>\n",
       "    </tr>\n",
       "    <tr>\n",
       "      <th>3</th>\n",
       "      <td>Shop - 1:1 - Desk - [shop promo code]</td>\n",
       "      <td>July</td>\n",
       "      <td>26185</td>\n",
       "      <td>10418</td>\n",
       "      <td>0.40</td>\n",
       "      <td>2294</td>\n",
       "      <td>0.12</td>\n",
       "      <td>13278</td>\n",
       "      <td>1.27</td>\n",
       "      <td>13042</td>\n",
       "      <td>284823.48</td>\n",
       "      <td>-235.921</td>\n",
       "      <td>Shop</td>\n",
       "      <td>1:1</td>\n",
       "      <td>Desk</td>\n",
       "      <td>[shop promo code]</td>\n",
       "    </tr>\n",
       "    <tr>\n",
       "      <th>4</th>\n",
       "      <td>Shop - 1:1 - Desk - [shop promo]</td>\n",
       "      <td>July</td>\n",
       "      <td>808</td>\n",
       "      <td>282</td>\n",
       "      <td>0.35</td>\n",
       "      <td>61</td>\n",
       "      <td>0.15</td>\n",
       "      <td>391</td>\n",
       "      <td>1.39</td>\n",
       "      <td>337</td>\n",
       "      <td>7717.77</td>\n",
       "      <td>-53.604</td>\n",
       "      <td>Shop</td>\n",
       "      <td>1:1</td>\n",
       "      <td>Desk</td>\n",
       "      <td>[shop promo]</td>\n",
       "    </tr>\n",
       "    <tr>\n",
       "      <th>...</th>\n",
       "      <td>...</td>\n",
       "      <td>...</td>\n",
       "      <td>...</td>\n",
       "      <td>...</td>\n",
       "      <td>...</td>\n",
       "      <td>...</td>\n",
       "      <td>...</td>\n",
       "      <td>...</td>\n",
       "      <td>...</td>\n",
       "      <td>...</td>\n",
       "      <td>...</td>\n",
       "      <td>...</td>\n",
       "      <td>...</td>\n",
       "      <td>...</td>\n",
       "      <td>...</td>\n",
       "      <td>...</td>\n",
       "    </tr>\n",
       "    <tr>\n",
       "      <th>185</th>\n",
       "      <td>Shop - Exact - Desk - Black Friday/Cyber Monday</td>\n",
       "      <td>November</td>\n",
       "      <td>257</td>\n",
       "      <td>24</td>\n",
       "      <td>0.09</td>\n",
       "      <td>7</td>\n",
       "      <td>0.28</td>\n",
       "      <td>3</td>\n",
       "      <td>0.14</td>\n",
       "      <td>45</td>\n",
       "      <td>898.80</td>\n",
       "      <td>41.946</td>\n",
       "      <td>Shop</td>\n",
       "      <td>Exact</td>\n",
       "      <td>Desk</td>\n",
       "      <td>Black Friday/Cyber Monday</td>\n",
       "    </tr>\n",
       "    <tr>\n",
       "      <th>186</th>\n",
       "      <td>Shop - 1:1 - Desk - [shop discount code]</td>\n",
       "      <td>November</td>\n",
       "      <td>7254</td>\n",
       "      <td>2725</td>\n",
       "      <td>0.38</td>\n",
       "      <td>512</td>\n",
       "      <td>0.11</td>\n",
       "      <td>3182</td>\n",
       "      <td>1.17</td>\n",
       "      <td>3227</td>\n",
       "      <td>66672.29</td>\n",
       "      <td>45.468</td>\n",
       "      <td>Shop</td>\n",
       "      <td>1:1</td>\n",
       "      <td>Desk</td>\n",
       "      <td>[shop discount code]</td>\n",
       "    </tr>\n",
       "    <tr>\n",
       "      <th>187</th>\n",
       "      <td>Shop - Exact - Desk - Coupon Code</td>\n",
       "      <td>November</td>\n",
       "      <td>18526</td>\n",
       "      <td>5553</td>\n",
       "      <td>0.30</td>\n",
       "      <td>919</td>\n",
       "      <td>0.10</td>\n",
       "      <td>5982</td>\n",
       "      <td>1.08</td>\n",
       "      <td>6047</td>\n",
       "      <td>129556.90</td>\n",
       "      <td>64.552</td>\n",
       "      <td>Shop</td>\n",
       "      <td>Exact</td>\n",
       "      <td>Desk</td>\n",
       "      <td>Coupon Code</td>\n",
       "    </tr>\n",
       "    <tr>\n",
       "      <th>188</th>\n",
       "      <td>Shop - Exact - Mob - Black Friday/Cyber Monday</td>\n",
       "      <td>November</td>\n",
       "      <td>3662</td>\n",
       "      <td>266</td>\n",
       "      <td>0.07</td>\n",
       "      <td>24</td>\n",
       "      <td>0.09</td>\n",
       "      <td>44</td>\n",
       "      <td>0.17</td>\n",
       "      <td>160</td>\n",
       "      <td>3268.63</td>\n",
       "      <td>115.963</td>\n",
       "      <td>Shop</td>\n",
       "      <td>Exact</td>\n",
       "      <td>Mob</td>\n",
       "      <td>Black Friday/Cyber Monday</td>\n",
       "    </tr>\n",
       "    <tr>\n",
       "      <th>189</th>\n",
       "      <td>Shop - Exact - Desk - Promo Code</td>\n",
       "      <td>November</td>\n",
       "      <td>25592</td>\n",
       "      <td>7726</td>\n",
       "      <td>0.30</td>\n",
       "      <td>1731</td>\n",
       "      <td>0.14</td>\n",
       "      <td>10914</td>\n",
       "      <td>1.41</td>\n",
       "      <td>11223</td>\n",
       "      <td>236665.59</td>\n",
       "      <td>308.975</td>\n",
       "      <td>Shop</td>\n",
       "      <td>Exact</td>\n",
       "      <td>Desk</td>\n",
       "      <td>Promo Code</td>\n",
       "    </tr>\n",
       "  </tbody>\n",
       "</table>\n",
       "<p>190 rows × 16 columns</p>\n",
       "</div>"
      ],
      "text/plain": [
       "                                            Ad_Group     Month  Impressions  \\\n",
       "0             Shop - 1:1 - Desk - [shop coupon code]      July        16038   \n",
       "1                  Shop - 1:1 - Desk - [shop coupon]      July        36462   \n",
       "2           Shop - 1:1 - Desk - [shop discount code]      July         3635   \n",
       "3              Shop - 1:1 - Desk - [shop promo code]      July        26185   \n",
       "4                   Shop - 1:1 - Desk - [shop promo]      July          808   \n",
       "..                                               ...       ...          ...   \n",
       "185  Shop - Exact - Desk - Black Friday/Cyber Monday  November          257   \n",
       "186         Shop - 1:1 - Desk - [shop discount code]  November         7254   \n",
       "187                Shop - Exact - Desk - Coupon Code  November        18526   \n",
       "188   Shop - Exact - Mob - Black Friday/Cyber Monday  November         3662   \n",
       "189                 Shop - Exact - Desk - Promo Code  November        25592   \n",
       "\n",
       "     Clicks   CTR  Conversions  Conversion_Rate   Cost   CPC  Revenue  \\\n",
       "0      6504  0.41         1166             0.10   6669  1.03     6402   \n",
       "1     14367  0.39         2188             0.09  13746  0.96    13262   \n",
       "2      1458  0.40          248             0.09   1606  1.10     1723   \n",
       "3     10418  0.40         2294             0.12  13278  1.27    13042   \n",
       "4       282  0.35           61             0.15    391  1.39      337   \n",
       "..      ...   ...          ...              ...    ...   ...      ...   \n",
       "185      24  0.09            7             0.28      3  0.14       45   \n",
       "186    2725  0.38          512             0.11   3182  1.17     3227   \n",
       "187    5553  0.30          919             0.10   5982  1.08     6047   \n",
       "188     266  0.07           24             0.09     44  0.17      160   \n",
       "189    7726  0.30         1731             0.14  10914  1.41    11223   \n",
       "\n",
       "     Sale_Amount      P&L name_store keyword_match device_type  \\\n",
       "0      136770.05 -267.086       Shop           1:1        Desk   \n",
       "1      283215.21 -483.951       Shop           1:1        Desk   \n",
       "2       39165.46  117.136       Shop           1:1        Desk   \n",
       "3      284823.48 -235.921       Shop           1:1        Desk   \n",
       "4        7717.77  -53.604       Shop           1:1        Desk   \n",
       "..           ...      ...        ...           ...         ...   \n",
       "185       898.80   41.946       Shop         Exact        Desk   \n",
       "186     66672.29   45.468       Shop           1:1        Desk   \n",
       "187    129556.90   64.552       Shop         Exact        Desk   \n",
       "188      3268.63  115.963       Shop         Exact         Mob   \n",
       "189    236665.59  308.975       Shop         Exact        Desk   \n",
       "\n",
       "                  landing_page  \n",
       "0           [shop coupon code]  \n",
       "1                [shop coupon]  \n",
       "2         [shop discount code]  \n",
       "3            [shop promo code]  \n",
       "4                 [shop promo]  \n",
       "..                         ...  \n",
       "185  Black Friday/Cyber Monday  \n",
       "186       [shop discount code]  \n",
       "187                Coupon Code  \n",
       "188  Black Friday/Cyber Monday  \n",
       "189                 Promo Code  \n",
       "\n",
       "[190 rows x 16 columns]"
      ]
     },
     "execution_count": 8,
     "metadata": {},
     "output_type": "execute_result"
    }
   ],
   "source": [
    "marketing"
   ]
  },
  {
   "cell_type": "code",
   "execution_count": 9,
   "id": "c6ea425b",
   "metadata": {},
   "outputs": [
    {
     "data": {
      "text/plain": [
       "array(['[shop coupon code]', '[shop coupon]', '[shop discount code]',\n",
       "       '[shop promo code]', '[shop promo]', 'Competitor', 'Coupon Code',\n",
       "       'Discount Code', 'Free Shipping', 'Offer', 'Promo Code', 'Sale',\n",
       "       'Black Friday/Cyber Monday'], dtype=object)"
      ]
     },
     "execution_count": 9,
     "metadata": {},
     "output_type": "execute_result"
    }
   ],
   "source": [
    "unique_values_landing_page = marketing['landing_page'].unique()\n",
    "unique_values_landing_page"
   ]
  },
  {
   "cell_type": "markdown",
   "id": "9eeaf66d",
   "metadata": {},
   "source": [
    "## **Statistics Test**\n",
    "___\n",
    "\n",
    "The company has been tracking the Click for the Landing Page of Website for 5 months. The company now wants to conduct a statistical test to determine if there is a significant difference in the Click between November and October."
   ]
  },
  {
   "cell_type": "markdown",
   "id": "b38ce669",
   "metadata": {},
   "source": [
    "- What to prove: **Cliks** or the proportion of page from landing page in the **November** is **greater** than in **October** Clicks \n",
    "- Let $p_1$ is represent the proportion of Clicks from landing in **November** and $p_2$ is represent the proportion of Clicks from landing in **October**"
   ]
  },
  {
   "cell_type": "markdown",
   "id": "fc550a42",
   "metadata": {},
   "source": [
    "- Then we state Null hypothesis ($H_0$) as status quo, where we shouldn't do anything and have no data \n",
    " - $H_0$:The proportion of clicks from landing page in November is **greater than** to the proportion of clicks from landing page in October.\n",
    "   $$H_0:P_1 \\geq P_2$$\n",
    "- Alternative hypothesis ($H_1$) is the opposite claim from null hypothesis\n",
    " - $H_1$: The proportion of clicks from landing page in November is **less than or equal** the proportion of clicks from landing page in October. $$H_1:P_1 < P_2$$\n",
    "- Set siginificance level (alpha)\n",
    " - Significance level = 0.05`"
   ]
  },
  {
   "cell_type": "markdown",
   "id": "25449aad",
   "metadata": {},
   "source": [
    "#### **Define Null & Alternate Hypothesis**"
   ]
  },
  {
   "cell_type": "markdown",
   "id": "93a6eb25",
   "metadata": {},
   "source": [
    "*What the default condition in the company?*\n",
    "- [x] There is significant difference in the Click between for proportion of clicks from landing page in `November` and `October`.\n",
    "- [ ] There is no a significant difference in the Click between the two landing pages for `shop promo code` and `shop coupon code`\n",
    "\n",
    "<font color=\"blue\">Explaination</font><br>\n",
    "This means that the company assumes that both landing pages in October have the different Clicks and that any observed differences are due to same."
   ]
  },
  {
   "cell_type": "code",
   "execution_count": 10,
   "id": "ea1bd80f",
   "metadata": {},
   "outputs": [],
   "source": [
    "november_clicks = marketing[marketing['Month'] == 'August']['Clicks']\n",
    "october_clicks = marketing[marketing['Month'] == 'October']['Clicks']"
   ]
  },
  {
   "cell_type": "code",
   "execution_count": 11,
   "id": "7f2128c5",
   "metadata": {},
   "outputs": [],
   "source": [
    "november_clicks_len = len(november_clicks)\n",
    "october_clicks_len = len(october_clicks)\n",
    "\n",
    "november_clicks_sum = november_clicks.sum()\n",
    "october_clicks_sum = october_clicks.sum()"
   ]
  },
  {
   "cell_type": "markdown",
   "id": "f49f4208",
   "metadata": {},
   "source": [
    "- Afterward, we can calculate statistics test and p-value using spicy library."
   ]
  },
  {
   "cell_type": "markdown",
   "id": "04849c48",
   "metadata": {},
   "source": [
    "- There are several steps to calculate two-sample z-test for proportions using statsmodels\n",
    "\n",
    "1. import library \n",
    "\n",
    "    - from statsmodels import [proportions_ztest](https://www.statsmodels.org/dev/generated/statsmodels.stats.proportion.proportions_ztest.html)\n",
    "    \n",
    "    \n",
    "2. Using function`proportions_ztest(count = ... , nobs = ... , alternative = ... )` by replacing parameters  :\n",
    "    - `count` : number of successes\n",
    "    - `nobs` : number of observations\n",
    "    - `alternative` : It depends on the alternative hypothesis for the test\n",
    "        - if $H_1$ is not equal to certain value, we use `two-sided`\n",
    "        - if $H_1$ is larger than certain value, we use `larger`\n",
    "        - if $H_1$ is smaller than certain value, we use `smaller` \n",
    "        \n",
    "3. The function will return two output, namely test statistic and p-value.m"
   ]
  },
  {
   "cell_type": "code",
   "execution_count": 12,
   "id": "33ecbc86",
   "metadata": {},
   "outputs": [
    {
     "name": "stdout",
     "output_type": "stream",
     "text": [
      "The computed Z test statistic is:  0.0301\n",
      "The p-value is:  0.512\n"
     ]
    }
   ],
   "source": [
    "from statsmodels.stats.proportion import proportions_ztest\n",
    "\n",
    "# Perform two proportion z-test\n",
    "z_stat, p_value = proportions_ztest(count = [november_clicks_len, october_clicks_len], \n",
    "                                                nobs = [november_clicks_sum, october_clicks_sum], \n",
    "                                                alternative = 'smaller')\n",
    "\n",
    "print(\"The computed Z test statistic is: \",np.round(z_stat, 4))\n",
    "print(\"The p-value is: \", np.round(p_value,4))"
   ]
  },
  {
   "cell_type": "code",
   "execution_count": 13,
   "id": "c2a33d2b",
   "metadata": {},
   "outputs": [
    {
     "name": "stdout",
     "output_type": "stream",
     "text": [
      "1.6448536269514722\n"
     ]
    }
   ],
   "source": [
    "# critical value in our case is z-value where the left-tailed area under a standard normal distribution is 0.05 (alpha)\n",
    "import scipy.stats as stats\n",
    "z_crit = stats.norm.ppf(1-0.05)\n",
    "print(z_crit)"
   ]
  },
  {
   "cell_type": "code",
   "execution_count": 14,
   "id": "0e5a2dc0",
   "metadata": {},
   "outputs": [
    {
     "name": "stdout",
     "output_type": "stream",
     "text": [
      "Failed to reject the Null hypothesis\n"
     ]
    }
   ],
   "source": [
    "# Decision rule\n",
    "if p_value<0.05:\n",
    "    print(\"Reject the null hypothesis\")\n",
    "else:\n",
    "    print(\"Failed to reject the Null hypothesis\")"
   ]
  },
  {
   "cell_type": "code",
   "execution_count": 15,
   "id": "da2bb042",
   "metadata": {},
   "outputs": [
    {
     "data": {
      "image/png": "[encoded data removed]",
      "text/plain": [
       "<Figure size 800x550 with 1 Axes>"
      ]
     },
     "metadata": {},
     "output_type": "display_data"
    }
   ],
   "source": [
    "# Visualization\n",
    "import numpy as np\n",
    "import matplotlib.pyplot as plt\n",
    "plt.style.use('seaborn')\n",
    "\n",
    "# plot sample distribution \n",
    "x = np.arange(-4, 4, 0.001)\n",
    "plt.plot(x, stats.norm.pdf(x, 0, 1), \n",
    "         color='blue')\n",
    "\n",
    "# plot alpha region\n",
    "x_alpha = np.arange(1.645, 4, 0.01)\n",
    "y_alpha = stats.norm.pdf(x_alpha)\n",
    "plt.fill_between(x = x_alpha, \n",
    "                 y1 = y_alpha,\n",
    "                 facecolor = 'red',\n",
    "                 alpha = 0.35, \n",
    "                 label = 'alpha')\n",
    "\n",
    "# plot pvalue\n",
    "x_pvalue = np.arange(z_stat, 4, 0.01)\n",
    "y_pvalue = stats.norm.pdf(x_pvalue)\n",
    "plt.fill_between(x = x_pvalue, \n",
    "                 y1 = y_pvalue,\n",
    "                 facecolor = 'green',\n",
    "                 alpha = 0.35, \n",
    "                 label = 'pvalue')\n",
    "\n",
    "# plot z-crit and z-stats\n",
    "plt.axvline(np.round(z_stat, 4), \n",
    "            color =\"green\", \n",
    "            linestyle = \"--\", \n",
    "            label =\"z-stat\")\n",
    "plt.axvline(z_crit, \n",
    "            color =\"red\", \n",
    "            linestyle = \"--\", \n",
    "            label =\"z-crit\")\n",
    "\n",
    "plt.legend()\n",
    "plt.xlabel(\"z\")\n",
    "plt.ylabel(\"density\")\n",
    "\n",
    "plt.title(f'Standard Normal Distribution Plot \\n\\n z-statistic = {np.round(z_stat, 4)}, z_crit = {np.round(z_crit, 4)}, p-val = {np.round(p_value, 4)}, alpha = 0.05');"
   ]
  },
  {
   "cell_type": "markdown",
   "id": "4df32785",
   "metadata": {},
   "source": [
    "- Based on statistic test and p-value, failed to reject the Null hypothesis. \n",
    "   $$H_0:P_1 \\geq P_2$$\n",
    "- This means that there is not enough evidence to conclude that the proportion of clicks from the landing page in November is less or equal to the proportion of clicks from the landing page in October."
   ]
  },
  {
   "cell_type": "markdown",
   "id": "3c09f30f",
   "metadata": {},
   "source": [
    "After that, we will compute confidence interval to estimate in what range, our proportion difference in population"
   ]
  },
  {
   "cell_type": "markdown",
   "id": "b1ede2ac",
   "metadata": {},
   "source": [
    "*   To calculate confidence interval for proportion, we can use [statsmodels.stats.proportion.confint_proportions_2indep](https://https://www.statsmodels.org/stable/generated/statsmodels.stats.proportion.confint_proportions_2indep.html)\n",
    "\n",
    "1. import library\n",
    "  - import statsmodels.api\n",
    "  \n",
    "  \n",
    "2. Use function `statsmodels.stats.proportion.confint_proportions_2indep(count1, nobs1, count2, nobs2, compare='diff', alpha=0.05)')`\n",
    "\n",
    "  - `count1, nobs1` = number of successes and number of observation for first sample.\n",
    "  \n",
    "  - `count2, nobs2` = number of successes and number of observation for second sample.\n",
    "  \n",
    "  - `alpha` = significance level \n",
    "  \n",
    "  - `compare` = what type of comparison used\n",
    "      - `diff` if you find confidence interval of $p_1-p_2$ \n",
    "      - `ratio` if you find confidence interval of $\\frac{p_1}{p_2}$\n",
    "      - `odds-ratio` confidence interval = $\\frac{\\frac{p_1}{1-p_1}}{\\frac{p_2}{1-p_2}}$\n",
    "\n",
    "3. The function will return lower and upper limits of the confidence interval\n"
   ]
  },
  {
   "cell_type": "code",
   "execution_count": 16,
   "id": "79f38624",
   "metadata": {},
   "outputs": [
    {
     "name": "stdout",
     "output_type": "stream",
     "text": [
      "(-0.0001457027007943202, 0.00014952994627041288)\n"
     ]
    }
   ],
   "source": [
    "import pandas as pd\n",
    "import numpy as np\n",
    "from statsmodels.stats.proportion import confint_proportions_2indep\n",
    "\n",
    "confidence_interval = confint_proportions_2indep(count1 = november_clicks_len, nobs1 = november_clicks_sum,\n",
    "                                                 count2 = october_clicks_len, nobs2 = october_clicks_sum, \n",
    "                                                 compare='diff', alpha=0.05)\n",
    "print(confidence_interval)"
   ]
  },
  {
   "cell_type": "markdown",
   "id": "0f29d83e",
   "metadata": {},
   "source": [
    "### Conclusion \n",
    "- As the p value > alpha(0.05) , we fail to reject $H_0$. \n",
    "- Therefore, from the data we can say that we can't reject if the The proportion of clicks from landing page in November is **greater than** to the proportion of clicks from landing page in October.\n",
    "\n",
    "Recommendation for business:\n",
    "- Continue using the landing page October"
   ]
  },
  {
   "cell_type": "markdown",
   "id": "445aeb26",
   "metadata": {},
   "source": [
    "## **Linear Regression**\n",
    "---"
   ]
  },
  {
   "cell_type": "code",
   "execution_count": 17,
   "id": "df6980f1",
   "metadata": {},
   "outputs": [],
   "source": [
    "def print_coef_std_err(results):\n",
    "    \"\"\"\n",
    "    Function to combine estimated coefficients and standard error in one DataFrame\n",
    "    :param results: <statsmodels RegressionResultsWrapper> OLS regression results from \n",
    "    :return df: <pandas DataFrame> \n",
    "    \"\"\"\n",
    "    coef = results.params\n",
    "    std_err = results.bse\n",
    "    \n",
    "    df = pd.DataFrame(data = np.transpose([coef, std_err]), \n",
    "                      index = coef.index, \n",
    "                      columns=[\"coef\",\"std err\"])\n",
    "    return df"
   ]
  },
  {
   "cell_type": "markdown",
   "id": "cc5ca530",
   "metadata": {},
   "source": [
    "- Let's continue exploring marketing data\n",
    "- Here, we have five months' worth of data on ad performance that records information about marketing in general.\n",
    "- We want to know more than just the relationship between `Cost` and `Revenue`, we have other variable that hypothetically related to charges.\n",
    "- First, assume we want to know how the `Sale Amount` variable relate to `Cost`"
   ]
  },
  {
   "cell_type": "code",
   "execution_count": 18,
   "id": "59b3fc8c",
   "metadata": {},
   "outputs": [
    {
     "data": {
      "image/png": "[encoded data removed]",
      "text/plain": [
       "<Figure size 800x550 with 1 Axes>"
      ]
     },
     "metadata": {},
     "output_type": "display_data"
    }
   ],
   "source": [
    "x = marketing['Cost']\n",
    "y = marketing['Sale_Amount']\n",
    "\n",
    "# Plot the data\n",
    "plt.scatter(x, y, color = \"k\", marker=\".\")\n",
    "\n",
    "# Add a legend and labels\n",
    "\n",
    "plt.xlabel(\"Cost\")\n",
    "plt.ylabel(\"Sale_Amount\")\n",
    "\n",
    "# Add a title and adjust the margins\n",
    "plt.title(\"Data\")\n",
    "\n",
    "# Show the plot\n",
    "plt.show()"
   ]
  },
  {
   "cell_type": "markdown",
   "id": "e3ec5601",
   "metadata": {},
   "source": [
    "- From the visualization itself, we see two group-like cluster, we will explore it later\n",
    "- How the regression look like when we build the model using only bmi?"
   ]
  },
  {
   "cell_type": "code",
   "execution_count": 19,
   "id": "c6944f9f",
   "metadata": {},
   "outputs": [],
   "source": [
    "# Create OLS model object\n",
    "model = smf.ols('Sale_Amount ~ Cost', marketing)\n",
    "\n",
    "# Fit the model\n",
    "results = model.fit()\n",
    "\n",
    "# Extract the results (Coefficient and Standard Error) to DataFrame\n",
    "results_bmi_charges = print_coef_std_err(results)"
   ]
  },
  {
   "cell_type": "code",
   "execution_count": 20,
   "id": "eb391f8d",
   "metadata": {},
   "outputs": [
    {
     "data": {
      "image/png": "[encoded data removed]",
      "text/plain": [
       "<Figure size 800x550 with 1 Axes>"
      ]
     },
     "metadata": {},
     "output_type": "display_data"
    }
   ],
   "source": [
    "predictor = \"Cost\"\n",
    "outcome = \"Sale_Amount\"\n",
    "data = marketing.copy()\n",
    "results_ = results_bmi_charges.copy()\n",
    "\n",
    "# scatter-plot data\n",
    "x = marketing['Cost']\n",
    "y = marketing['Sale_Amount']\n",
    "\n",
    "# Plot the data\n",
    "plt.scatter(x, y, color = \"k\", marker=\".\")\n",
    "\n",
    "# Calculate the fitted values\n",
    "a_hat = results_.loc[\"Intercept\"][\"coef\"]\n",
    "b_hat = results_.loc[predictor][\"coef\"]\n",
    "\n",
    "x_domain = np.linspace(np.min(data[predictor]), np.max(data[predictor]), 10000)\n",
    "\n",
    "fitted_values = a_hat + b_hat * x_domain\n",
    "\n",
    "# Plot the fitted line\n",
    "plt.plot(x_domain, fitted_values, label=\"Fitted line\", color = \"orange\")\n",
    "\n",
    "plt.ylabel(\"Sale_Amount\")\n",
    "plt.xlabel(\"Cost\")\n",
    "plt.title(f\" y = {np.round(a_hat)} + {np.round(b_hat, 2)} * x\")\n",
    "\n",
    "plt.show()"
   ]
  },
  {
   "cell_type": "markdown",
   "id": "347f4749",
   "metadata": {},
   "source": [
    "- The simple regression line with one predictor seems do not quite tell the relationship happened in the data since it doesn't tell what's really going on with the *two groups look like cluster*\n",
    "- Let's explore if other variable can help us tells what's going on in our data"
   ]
  },
  {
   "cell_type": "code",
   "execution_count": 21,
   "id": "6c88f3b5",
   "metadata": {},
   "outputs": [
    {
     "data": {
      "image/png": "[encoded data removed]",
      "text/plain": [
       "<Figure size 600x600 with 1 Axes>"
      ]
     },
     "metadata": {},
     "output_type": "display_data"
    }
   ],
   "source": [
    "fig, ax = plt.subplots(figsize=(6, 6))\n",
    "\n",
    "# Define different color for each group data\n",
    "colors = {\"Desk\":\"y\",\"Mob\":\"g\"}\n",
    "\n",
    "grouped = marketing.groupby('device_type')\n",
    "\n",
    "# Plot the data with different color\n",
    "for key, group in grouped:\n",
    "    group.plot(ax=ax, kind='scatter', x='Cost', y='Sale_Amount', label=key, color=colors[key])\n",
    "plt.show()"
   ]
  },
  {
   "cell_type": "markdown",
   "id": "423ed467",
   "metadata": {},
   "source": [
    "- From the visualization, we see that variable `Desk` can differentiate the data in charges values\n",
    "- Next, try to add the `Mob` variable in the regression model to get more interpretable result "
   ]
  },
  {
   "cell_type": "markdown",
   "id": "792028e1",
   "metadata": {},
   "source": [
    "- Do simple preprocessing to convert the device type that contain string \"Desk\" and \"Mob\" to binary (1 for \"Mob\", 0 for \"Desk\") to do numerical calculation in more convenient way in ols and displaying fitted regression line"
   ]
  },
  {
   "cell_type": "code",
   "execution_count": 22,
   "id": "4efa584f",
   "metadata": {},
   "outputs": [
    {
     "data": {
      "text/html": [
       "<div>\n",
       "<style scoped>\n",
       "    .dataframe tbody tr th:only-of-type {\n",
       "        vertical-align: middle;\n",
       "    }\n",
       "\n",
       "    .dataframe tbody tr th {\n",
       "        vertical-align: top;\n",
       "    }\n",
       "\n",
       "    .dataframe thead th {\n",
       "        text-align: right;\n",
       "    }\n",
       "</style>\n",
       "<table border=\"1\" class=\"dataframe\">\n",
       "  <thead>\n",
       "    <tr style=\"text-align: right;\">\n",
       "      <th></th>\n",
       "      <th>device_type</th>\n",
       "      <th>Sale_Amount</th>\n",
       "    </tr>\n",
       "  </thead>\n",
       "  <tbody>\n",
       "    <tr>\n",
       "      <th>0</th>\n",
       "      <td>0</td>\n",
       "      <td>136770.05</td>\n",
       "    </tr>\n",
       "    <tr>\n",
       "      <th>1</th>\n",
       "      <td>0</td>\n",
       "      <td>283215.21</td>\n",
       "    </tr>\n",
       "    <tr>\n",
       "      <th>2</th>\n",
       "      <td>0</td>\n",
       "      <td>39165.46</td>\n",
       "    </tr>\n",
       "    <tr>\n",
       "      <th>3</th>\n",
       "      <td>0</td>\n",
       "      <td>284823.48</td>\n",
       "    </tr>\n",
       "    <tr>\n",
       "      <th>4</th>\n",
       "      <td>0</td>\n",
       "      <td>7717.77</td>\n",
       "    </tr>\n",
       "  </tbody>\n",
       "</table>\n",
       "</div>"
      ],
      "text/plain": [
       "   device_type  Sale_Amount\n",
       "0            0    136770.05\n",
       "1            0    283215.21\n",
       "2            0     39165.46\n",
       "3            0    284823.48\n",
       "4            0      7717.77"
      ]
     },
     "execution_count": 22,
     "metadata": {},
     "output_type": "execute_result"
    }
   ],
   "source": [
    "# Use LabelEncoder to convert the smoker variable into numeric\n",
    "from sklearn.preprocessing import LabelEncoder\n",
    "\n",
    "# Create LabelEncoder Object and transform the smoker variable\n",
    "marketing[\"device_type\"] = LabelEncoder().fit_transform(marketing[\"device_type\"])\n",
    "\n",
    "# Display the 5th first row after transforming\n",
    "marketing[[\"device_type\",\"Sale_Amount\"]].head()"
   ]
  },
  {
   "cell_type": "code",
   "execution_count": 23,
   "id": "b0a556d3",
   "metadata": {},
   "outputs": [],
   "source": [
    "# Create OLS model object\n",
    "model = smf.ols('Sale_Amount ~ Cost + device_type', marketing)\n",
    "\n",
    "# Fit the model\n",
    "results = model.fit()\n",
    "\n",
    "# Extract the results (Coefficient and Standard Error) to DataFrame\n",
    "results_bmi_smoker_charges = print_coef_std_err(results)"
   ]
  },
  {
   "cell_type": "code",
   "execution_count": 24,
   "id": "c7e869f5",
   "metadata": {},
   "outputs": [
    {
     "data": {
      "image/png": "[encoded data removed]",
      "text/plain": [
       "<Figure size 800x550 with 1 Axes>"
      ]
     },
     "metadata": {},
     "output_type": "display_data"
    }
   ],
   "source": [
    "predictors = [\"Cost\",\"device_type\"]\n",
    "outcome = \"Sale_Amount\"\n",
    "data = marketing.copy()\n",
    "results_ = results_bmi_smoker_charges.copy()\n",
    "linestyles = {0 : \"--\", 1: \"-\"}\n",
    "c = {0 : \"b\", 1: \"g\"}\n",
    "markers = {0 : \".\", 1: \"+\"}\n",
    "\n",
    "# Plot the data\n",
    "for i in range(2):\n",
    "    plt.scatter(data[data[predictors[1]]==i][predictors[0]], data[data[predictors[1]]==i][outcome], \n",
    "                color = c[i], \n",
    "                marker = markers[i])\n",
    "    \n",
    "x_domain = np.linspace(np.min(data[predictors[0]]), np.max(data[predictors[0]]), 100)\n",
    "\n",
    "\n",
    "# Calculate the fitted values for two lines regarding the mom_hs\n",
    "beta0_hat = results_.loc[\"Intercept\"][\"coef\"]\n",
    "beta1_hat = results_.loc[predictors[0]][\"coef\"]\n",
    "beta2_hat = results_.loc[predictors[1]][\"coef\"]\n",
    "\n",
    "fitted_values = [beta0_hat +  beta1_hat * x_domain  + beta2_hat * i for i in range(2)]\n",
    "\n",
    "\n",
    "# Plot two fitted line\n",
    "for i in range(2):\n",
    "    plt.plot(x_domain, fitted_values[i], c = c[i], label = f\"Fitted line (Device Type={i})\", linestyle = linestyles[i])\n",
    "\n",
    "# Add a legend and labels\n",
    "plt.legend()\n",
    "plt.ylabel(f\"{outcome}\")\n",
    "plt.xlabel(f\"{predictors[0]}\")\n",
    "\n",
    "# Add a title and adjust the margins\n",
    "plt.title(\"Data and fitted regression line\")\n",
    "\n",
    "# Show the plot\n",
    "plt.show()"
   ]
  },
  {
   "cell_type": "markdown",
   "id": "aaf88ecf",
   "metadata": {},
   "source": [
    "- The regression line after including `device_type` variable seems tell the relationship belong to each subpopulation based on value in the `device_type` predictor\n",
    "- However, it still have the same slopes, contrasting the pattern in the data that suggests that the slopes differ substantially\n",
    "- Include interation in smoker and bmi to address the issue`"
   ]
  },
  {
   "cell_type": "markdown",
   "id": "dcf1b7a6",
   "metadata": {},
   "source": [
    "### Fit Linear Regression - Include an Interaction "
   ]
  },
  {
   "cell_type": "code",
   "execution_count": 25,
   "id": "d73dd6ff",
   "metadata": {},
   "outputs": [],
   "source": [
    "# Create OLS model object\n",
    "model = smf.ols('Sale_Amount ~ Cost + device_type + device_type:Cost', marketing)\n",
    "\n",
    "# Fit the model\n",
    "results = model.fit()\n",
    "\n",
    "# Extract the results (Coefficient and Standard Error) to DataFrame\n",
    "results_bmi_smoker_inter_charges = print_coef_std_err(results)"
   ]
  },
  {
   "cell_type": "code",
   "execution_count": 26,
   "id": "f884da4e",
   "metadata": {
    "scrolled": true
   },
   "outputs": [
    {
     "data": {
      "image/png": "[encoded data removed]",
      "text/plain": [
       "<Figure size 800x550 with 1 Axes>"
      ]
     },
     "metadata": {},
     "output_type": "display_data"
    }
   ],
   "source": [
    "predictors = [\"Cost\",\"device_type\",\"device_type:Cost\"]\n",
    "outcome = \"Sale_Amount\"\n",
    "data = marketing.copy()\n",
    "results_ = results_bmi_smoker_inter_charges.copy()\n",
    "linestyles = {0 : \"--\", 1: \"-\"}\n",
    "c = {0 : \"b\", 1: \"g\"}\n",
    "markers = {0 : \".\", 1: \"x\"}\n",
    "\n",
    "# Plot the data\n",
    "for i in range(2):\n",
    "    plt.scatter(data[data[predictors[1]]==i][predictors[0]], data[data[predictors[1]]==i][outcome], \n",
    "                color = c[i], marker = markers[i])\n",
    "\n",
    "# Calculate the fitted values for two lines regarding the mom_hs\n",
    "beta0_hat = results_.loc[\"Intercept\"][\"coef\"]\n",
    "beta1_hat = results_.loc[predictors[0]][\"coef\"]\n",
    "beta2_hat = results_.loc[predictors[1]][\"coef\"]\n",
    "beta3_hat = results_.loc[predictors[2]][\"coef\"]\n",
    "\n",
    "fitted_values = [beta0_hat +  beta1_hat * x_domain  + beta2_hat * i + beta3_hat * i * x_domain for i in range(2)]\n",
    "\n",
    "x_domain = np.linspace(np.min(data[predictors[0]]), np.max(data[predictors[0]]), 100)\n",
    "\n",
    "# Plot two fitted line\n",
    "for i in range(2):\n",
    "    plt.plot(x_domain, fitted_values[i], c = c[i], label = f\"Fitted line (device_type={i})\", linestyle = linestyles[i])\n",
    "\n",
    "# Add a legend and labels\n",
    "plt.legend()\n",
    "plt.ylabel(f\"{outcome}\")\n",
    "plt.xlabel(f\"{predictors[0]}\")\n",
    "\n",
    "# Add a title and adjust the margins\n",
    "plt.title(\"Data and fitted regression line\")\n",
    "\n",
    "# Show the plot\n",
    "plt.show()"
   ]
  },
  {
   "cell_type": "markdown",
   "id": "9e979fee",
   "metadata": {},
   "source": [
    "- Finally we have the regression line that can tell the two groups of data have different slopes"
   ]
  },
  {
   "cell_type": "markdown",
   "id": "c259aa4a",
   "metadata": {},
   "source": [
    "### Coefficient Interpretation "
   ]
  },
  {
   "cell_type": "code",
   "execution_count": 27,
   "id": "885f0f96",
   "metadata": {},
   "outputs": [
    {
     "data": {
      "text/html": [
       "<div>\n",
       "<style scoped>\n",
       "    .dataframe tbody tr th:only-of-type {\n",
       "        vertical-align: middle;\n",
       "    }\n",
       "\n",
       "    .dataframe tbody tr th {\n",
       "        vertical-align: top;\n",
       "    }\n",
       "\n",
       "    .dataframe thead th {\n",
       "        text-align: right;\n",
       "    }\n",
       "</style>\n",
       "<table border=\"1\" class=\"dataframe\">\n",
       "  <thead>\n",
       "    <tr style=\"text-align: right;\">\n",
       "      <th></th>\n",
       "      <th>coef</th>\n",
       "      <th>std err</th>\n",
       "    </tr>\n",
       "  </thead>\n",
       "  <tbody>\n",
       "    <tr>\n",
       "      <th>Intercept</th>\n",
       "      <td>800.261921</td>\n",
       "      <td>1611.238033</td>\n",
       "    </tr>\n",
       "    <tr>\n",
       "      <th>Cost</th>\n",
       "      <td>19.175124</td>\n",
       "      <td>0.246947</td>\n",
       "    </tr>\n",
       "    <tr>\n",
       "      <th>device_type</th>\n",
       "      <td>-2627.825327</td>\n",
       "      <td>2257.111912</td>\n",
       "    </tr>\n",
       "    <tr>\n",
       "      <th>device_type:Cost</th>\n",
       "      <td>-0.097671</td>\n",
       "      <td>0.316012</td>\n",
       "    </tr>\n",
       "  </tbody>\n",
       "</table>\n",
       "</div>"
      ],
      "text/plain": [
       "                         coef      std err\n",
       "Intercept          800.261921  1611.238033\n",
       "Cost                19.175124     0.246947\n",
       "device_type      -2627.825327  2257.111912\n",
       "device_type:Cost    -0.097671     0.316012"
      ]
     },
     "execution_count": 27,
     "metadata": {},
     "output_type": "execute_result"
    }
   ],
   "source": [
    "results_bmi_smoker_inter_charges"
   ]
  },
  {
   "cell_type": "markdown",
   "id": "9fa4054b",
   "metadata": {},
   "source": [
    "$$\\text{Sale_Amount} = 800 + 19\\text{Cost} -2627\\text{device_type} - 0.09\\text{device_type*Cost}$$"
   ]
  },
  {
   "cell_type": "code",
   "execution_count": 28,
   "id": "e2c0767d",
   "metadata": {
    "scrolled": true
   },
   "outputs": [
    {
     "name": "stdout",
     "output_type": "stream",
     "text": [
      "<class 'pandas.core.frame.DataFrame'>\n",
      "RangeIndex: 190 entries, 0 to 189\n",
      "Data columns (total 16 columns):\n",
      " #   Column           Non-Null Count  Dtype  \n",
      "---  ------           --------------  -----  \n",
      " 0   Ad_Group         190 non-null    object \n",
      " 1   Month            190 non-null    object \n",
      " 2   Impressions      190 non-null    int64  \n",
      " 3   Clicks           190 non-null    int64  \n",
      " 4   CTR              190 non-null    float64\n",
      " 5   Conversions      190 non-null    int64  \n",
      " 6   Conversion_Rate  190 non-null    float64\n",
      " 7   Cost             190 non-null    int64  \n",
      " 8   CPC              190 non-null    float64\n",
      " 9   Revenue          190 non-null    int64  \n",
      " 10  Sale_Amount      190 non-null    float64\n",
      " 11  P&L              190 non-null    float64\n",
      " 12  name_store       190 non-null    object \n",
      " 13  keyword_match    190 non-null    object \n",
      " 14  device_type      190 non-null    int32  \n",
      " 15  landing_page     190 non-null    object \n",
      "dtypes: float64(5), int32(1), int64(5), object(5)\n",
      "memory usage: 23.1+ KB\n"
     ]
    }
   ],
   "source": [
    "marketing.info()"
   ]
  }
 ],
 "metadata": {
  "kernelspec": {
   "display_name": "env_d",
   "language": "python",
   "name": "env_d"
  },
  "language_info": {
   "codemirror_mode": {
    "name": "ipython",
    "version": 3
   },
   "file_extension": ".py",
   "mimetype": "text/x-python",
   "name": "python",
   "nbconvert_exporter": "python",
   "pygments_lexer": "ipython3",
   "version": "3.11.0"
  }
 },
 "nbformat": 4,
 "nbformat_minor": 5
}
