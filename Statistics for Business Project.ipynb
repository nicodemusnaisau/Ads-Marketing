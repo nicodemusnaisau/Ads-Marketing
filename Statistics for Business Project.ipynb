{
 "cells": [
  {
   "cell_type": "markdown",
   "id": "8cf997a2",
   "metadata": {},
   "source": [
    "# Statistics for Business"
   ]
  },
  {
   "cell_type": "markdown",
   "id": "7b4f2c9c",
   "metadata": {},
   "source": [
    "Project Sekolah Data Pacmann Ai"
   ]
  },
  {
   "cell_type": "markdown",
   "id": "ed102e25",
   "metadata": {},
   "source": [
    "#### Import Liblary"
   ]
  },
  {
   "cell_type": "code",
   "execution_count": 5,
   "id": "1dfaf185",
   "metadata": {},
   "outputs": [],
   "source": [
    "import pandas as pd\n",
    "import numpy as np\n",
    "import datetime\n",
    "import seaborn as sns\n",
    "import matplotlib.pyplot as plt\n",
    "import matplotlib\n",
    "%matplotlib inline\n",
    "from matplotlib.gridspec import GridSpec\n",
    "from plotly.offline import init_notebook_mode, iplot\n",
    "import plotly.graph_objs as go\n",
    "from plotly import tools\n",
    "import colorlover as cl \n",
    "\n",
    "from pathlib import Path\n",
    "from datetime import date\n",
    "\n",
    "import warnings\n",
    "warnings.filterwarnings(\"ignore\") "
   ]
  },
  {
   "cell_type": "markdown",
   "id": "0c57299d",
   "metadata": {},
   "source": [
    "### Load Data"
   ]
  },
  {
   "cell_type": "code",
   "execution_count": null,
   "id": "3d462dcb",
   "metadata": {},
   "outputs": [],
   "source": [
    "ecommerce = pd.read_excel('ecommerce_marketing.xlsx')\n",
    "ecommerce.head()"
   ]
  }
 ],
 "metadata": {
  "kernelspec": {
   "display_name": "env_d",
   "language": "python",
   "name": "env_d"
  },
  "language_info": {
   "codemirror_mode": {
    "name": "ipython",
    "version": 3
   },
   "file_extension": ".py",
   "mimetype": "text/x-python",
   "name": "python",
   "nbconvert_exporter": "python",
   "pygments_lexer": "ipython3",
   "version": "3.11.0"
  }
 },
 "nbformat": 4,
 "nbformat_minor": 5
}
